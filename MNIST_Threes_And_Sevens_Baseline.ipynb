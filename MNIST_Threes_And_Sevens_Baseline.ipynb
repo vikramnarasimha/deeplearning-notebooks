{
  "nbformat": 4,
  "nbformat_minor": 0,
  "metadata": {
    "colab": {
      "name": "MNIST_Threes_And_Sevens_Baseline.ipynb",
      "provenance": [],
      "authorship_tag": "ABX9TyNe9aATfAwqCm3ccTQx9c5l",
      "include_colab_link": true
    },
    "kernelspec": {
      "name": "python3",
      "display_name": "Python 3"
    },
    "language_info": {
      "name": "python"
    }
  },
  "cells": [
    {
      "cell_type": "markdown",
      "metadata": {
        "id": "view-in-github",
        "colab_type": "text"
      },
      "source": [
        "<a href=\"https://colab.research.google.com/github/vikramnarasimha/deeplearning-notebooks/blob/main/MNIST_Threes_And_Sevens_Baseline.ipynb\" target=\"_parent\"><img src=\"https://colab.research.google.com/assets/colab-badge.svg\" alt=\"Open In Colab\"/></a>"
      ]
    },
    {
      "cell_type": "code",
      "metadata": {
        "colab": {
          "base_uri": "https://localhost:8080/"
        },
        "id": "TPpWw_zwpVMe",
        "outputId": "686b52ef-8ffe-40d4-ae53-6819e4b10962"
      },
      "source": [
        "!pip install -Uqq fastbook\n",
        "from fastbook import *\n"
      ],
      "execution_count": 3,
      "outputs": [
        {
          "output_type": "stream",
          "text": [
            "\u001b[K     |████████████████████████████████| 727kB 15.2MB/s \n",
            "\u001b[K     |████████████████████████████████| 194kB 46.3MB/s \n",
            "\u001b[K     |████████████████████████████████| 1.2MB 48.6MB/s \n",
            "\u001b[K     |████████████████████████████████| 51kB 6.7MB/s \n",
            "\u001b[K     |████████████████████████████████| 12.8MB 284kB/s \n",
            "\u001b[K     |████████████████████████████████| 61kB 7.1MB/s \n",
            "\u001b[K     |████████████████████████████████| 776.8MB 20kB/s \n",
            "\u001b[K     |████████████████████████████████| 51kB 6.8MB/s \n",
            "\u001b[31mERROR: torchtext 0.9.1 has requirement torch==1.8.1, but you'll have torch 1.7.1 which is incompatible.\u001b[0m\n",
            "\u001b[?25h"
          ],
          "name": "stdout"
        }
      ]
    },
    {
      "cell_type": "code",
      "metadata": {
        "colab": {
          "base_uri": "https://localhost:8080/",
          "height": 17
        },
        "id": "u4adWlnspiu3",
        "outputId": "617680fe-d8f7-40b2-a9a1-e0438136cd8e"
      },
      "source": [
        "path = untar_data(URLs.MNIST_SAMPLE)"
      ],
      "execution_count": 4,
      "outputs": [
        {
          "output_type": "display_data",
          "data": {
            "text/html": [
              ""
            ],
            "text/plain": [
              "<IPython.core.display.HTML object>"
            ]
          },
          "metadata": {
            "tags": []
          }
        }
      ]
    },
    {
      "cell_type": "code",
      "metadata": {
        "colab": {
          "base_uri": "https://localhost:8080/"
        },
        "id": "7UNPUi7qqvqo",
        "outputId": "e14567fd-36b9-4276-f369-9816645c5c85"
      },
      "source": [
        "path.ls()"
      ],
      "execution_count": 5,
      "outputs": [
        {
          "output_type": "execute_result",
          "data": {
            "text/plain": [
              "(#3) [Path('/root/.fastai/data/mnist_sample/train'),Path('/root/.fastai/data/mnist_sample/labels.csv'),Path('/root/.fastai/data/mnist_sample/valid')]"
            ]
          },
          "metadata": {
            "tags": []
          },
          "execution_count": 5
        }
      ]
    },
    {
      "cell_type": "code",
      "metadata": {
        "id": "2cLKF3ODq6r3"
      },
      "source": [
        "threes=(path/'train/3').ls()"
      ],
      "execution_count": 6,
      "outputs": []
    },
    {
      "cell_type": "code",
      "metadata": {
        "id": "I1OE9k6DrdN1"
      },
      "source": [
        "sevens=(path/'train/7').ls()"
      ],
      "execution_count": 7,
      "outputs": []
    },
    {
      "cell_type": "code",
      "metadata": {
        "colab": {
          "base_uri": "https://localhost:8080/",
          "height": 45
        },
        "id": "gtXVAxVmriLD",
        "outputId": "1eb4567b-7c61-41dd-e4fa-95c54cbdc3bd"
      },
      "source": [
        "im3 = Image.open(threes[1])\n",
        "im3"
      ],
      "execution_count": 8,
      "outputs": [
        {
          "output_type": "execute_result",
          "data": {
            "image/png": "[encoded data removed]",
            "text/plain": [
              "<PIL.PngImagePlugin.PngImageFile image mode=L size=28x28 at 0x7F7FBF0B2FD0>"
            ]
          },
          "metadata": {
            "tags": []
          },
          "execution_count": 8
        }
      ]
    },
    {
      "cell_type": "code",
      "metadata": {
        "colab": {
          "base_uri": "https://localhost:8080/"
        },
        "id": "2TFiqEIvsYhz",
        "outputId": "493d1215-e058-4eda-bac1-2f7d81323928"
      },
      "source": [
        "array(im3)[4:10,4:10]"
      ],
      "execution_count": 9,
      "outputs": [
        {
          "output_type": "execute_result",
          "data": {
            "text/plain": [
              "array([[ 0,  0,  0,  0,  0,  0],\n",
              "       [ 0,  0,  0,  0,  0,  0],\n",
              "       [ 0,  0,  0,  0,  0,  0],\n",
              "       [ 0,  0,  0,  0,  0,  0],\n",
              "       [ 0,  0,  0,  0,  0,  0],\n",
              "       [ 0,  0,  0,  0,  0, 13]], dtype=uint8)"
            ]
          },
          "metadata": {
            "tags": []
          },
          "execution_count": 9
        }
      ]
    },
    {
      "cell_type": "code",
      "metadata": {
        "colab": {
          "base_uri": "https://localhost:8080/"
        },
        "id": "7sao4vUUsvWU",
        "outputId": "0926fbbe-bde8-4f69-976a-dfad2475ef78"
      },
      "source": [
        "tensor(im3)[4:10,4:10]"
      ],
      "execution_count": 10,
      "outputs": [
        {
          "output_type": "execute_result",
          "data": {
            "text/plain": [
              "tensor([[ 0,  0,  0,  0,  0,  0],\n",
              "        [ 0,  0,  0,  0,  0,  0],\n",
              "        [ 0,  0,  0,  0,  0,  0],\n",
              "        [ 0,  0,  0,  0,  0,  0],\n",
              "        [ 0,  0,  0,  0,  0,  0],\n",
              "        [ 0,  0,  0,  0,  0, 13]], dtype=torch.uint8)"
            ]
          },
          "metadata": {
            "tags": []
          },
          "execution_count": 10
        }
      ]
    },
    {
      "cell_type": "code",
      "metadata": {
        "colab": {
          "base_uri": "https://localhost:8080/"
        },
        "id": "zHb1_40RtOtU",
        "outputId": "696a5ac5-110f-490a-aa75-4fe9557c6ec6"
      },
      "source": [
        "three_tensors = [tensor(Image.open(o)) for o in threes]\n",
        "seven_tensors = [tensor(Image.open(o)) for o in sevens]\n",
        "stacked_threes = torch.stack(three_tensors).float()/255\n",
        "stacked_sevens = torch.stack(seven_tensors).float()/255\n",
        "stacked_threes.shape\n",
        "stacked_sevens.shape"
      ],
      "execution_count": 11,
      "outputs": [
        {
          "output_type": "execute_result",
          "data": {
            "text/plain": [
              "torch.Size([6265, 28, 28])"
            ]
          },
          "metadata": {
            "tags": []
          },
          "execution_count": 11
        }
      ]
    },
    {
      "cell_type": "code",
      "metadata": {
        "colab": {
          "base_uri": "https://localhost:8080/",
          "height": 102
        },
        "id": "-S43INNnxQZd",
        "outputId": "ce57219b-0eb2-4e58-9ef4-2b4610c461d4"
      },
      "source": [
        "mean_3 = stacked_threes.mean(0)\n",
        "show_image(mean_3)"
      ],
      "execution_count": 12,
      "outputs": [
        {
          "output_type": "execute_result",
          "data": {
            "text/plain": [
              "<matplotlib.axes._subplots.AxesSubplot at 0x7f7fbec67b90>"
            ]
          },
          "metadata": {
            "tags": []
          },
          "execution_count": 12
        },
        {
          "output_type": "display_data",
          "data": {
            "image/png": "[encoded data removed]",
            "text/plain": [
              "<Figure size 72x72 with 1 Axes>"
            ]
          },
          "metadata": {
            "tags": [],
            "needs_background": "light"
          }
        }
      ]
    },
    {
      "cell_type": "code",
      "metadata": {
        "colab": {
          "base_uri": "https://localhost:8080/"
        },
        "id": "ymeXLtCh0zN-",
        "outputId": "213e8897-6c39-4310-db90-e3e4b2ecdcda"
      },
      "source": [
        "mean_3"
      ],
      "execution_count": 13,
      "outputs": [
        {
          "output_type": "execute_result",
          "data": {
            "text/plain": [
              "tensor([[0.0000e+00, 0.0000e+00, 0.0000e+00, 0.0000e+00, 0.0000e+00, 0.0000e+00, 0.0000e+00, 0.0000e+00, 0.0000e+00, 0.0000e+00, 0.0000e+00, 0.0000e+00, 0.0000e+00, 0.0000e+00, 0.0000e+00, 0.0000e+00,\n",
              "         0.0000e+00, 0.0000e+00, 0.0000e+00, 0.0000e+00, 0.0000e+00, 0.0000e+00, 0.0000e+00, 0.0000e+00, 0.0000e+00, 0.0000e+00, 0.0000e+00, 0.0000e+00],\n",
              "        [0.0000e+00, 0.0000e+00, 0.0000e+00, 0.0000e+00, 0.0000e+00, 0.0000e+00, 0.0000e+00, 0.0000e+00, 0.0000e+00, 0.0000e+00, 0.0000e+00, 0.0000e+00, 0.0000e+00, 0.0000e+00, 0.0000e+00, 0.0000e+00,\n",
              "         0.0000e+00, 0.0000e+00, 0.0000e+00, 0.0000e+00, 0.0000e+00, 0.0000e+00, 0.0000e+00, 0.0000e+00, 0.0000e+00, 0.0000e+00, 0.0000e+00, 0.0000e+00],\n",
              "        [0.0000e+00, 0.0000e+00, 0.0000e+00, 0.0000e+00, 0.0000e+00, 0.0000e+00, 0.0000e+00, 0.0000e+00, 0.0000e+00, 0.0000e+00, 7.2918e-05, 1.9637e-04, 2.3410e-04, 1.9253e-04, 2.7568e-04, 2.6161e-04,\n",
              "         2.9423e-04, 2.8400e-04, 1.5671e-04, 4.8612e-05, 5.7567e-06, 0.0000e+00, 0.0000e+00, 0.0000e+00, 0.0000e+00, 0.0000e+00, 0.0000e+00, 0.0000e+00],\n",
              "        [0.0000e+00, 0.0000e+00, 0.0000e+00, 0.0000e+00, 1.5991e-05, 4.8676e-04, 7.7331e-04, 1.4468e-03, 2.9788e-03, 5.6486e-03, 9.5177e-03, 1.5693e-02, 2.1113e-02, 2.4280e-02, 2.5964e-02, 2.4268e-02,\n",
              "         2.0875e-02, 1.7108e-02, 1.1642e-02, 7.0436e-03, 3.9945e-03, 1.4955e-03, 3.2941e-04, 0.0000e+00, 0.0000e+00, 0.0000e+00, 0.0000e+00, 0.0000e+00],\n",
              "        [0.0000e+00, 2.4306e-05, 3.2621e-05, 1.5607e-04, 1.3995e-03, 5.7854e-03, 1.3664e-02, 3.0111e-02, 5.5401e-02, 9.0316e-02, 1.3725e-01, 1.8357e-01, 2.2128e-01, 2.4655e-01, 2.4972e-01, 2.3536e-01,\n",
              "         1.9872e-01, 1.5084e-01, 1.0543e-01, 6.4754e-02, 3.2829e-02, 1.3352e-02, 4.5970e-03, 3.9273e-04, 1.9189e-06, 0.0000e+00, 0.0000e+00, 0.0000e+00],\n",
              "        [0.0000e+00, 0.0000e+00, 5.7567e-05, 1.5204e-03, 8.8909e-03, 2.7837e-02, 6.1064e-02, 1.1271e-01, 1.8688e-01, 2.8024e-01, 3.8297e-01, 4.8024e-01, 5.5877e-01, 6.1324e-01, 6.2329e-01, 5.9771e-01,\n",
              "         5.2835e-01, 4.2100e-01, 3.0576e-01, 2.0347e-01, 1.1742e-01, 5.3793e-02, 1.6992e-02, 3.4617e-03, 2.5905e-04, 0.0000e+00, 0.0000e+00, 0.0000e+00],\n",
              "        [0.0000e+00, 7.0359e-06, 3.0063e-04, 5.8174e-03, 2.4498e-02, 5.9899e-02, 1.2038e-01, 2.0755e-01, 3.1939e-01, 4.3547e-01, 5.4447e-01, 6.2764e-01, 6.8504e-01, 7.2395e-01, 7.4489e-01, 7.4463e-01,\n",
              "         7.0500e-01, 6.0875e-01, 4.7916e-01, 3.3949e-01, 2.1322e-01, 1.0868e-01, 3.7335e-02, 7.9084e-03, 8.2320e-04, 0.0000e+00, 0.0000e+00, 0.0000e+00],\n",
              "        [0.0000e+00, 3.2429e-04, 4.5414e-04, 9.7409e-03, 3.7895e-02, 8.2921e-02, 1.5382e-01, 2.4157e-01, 3.3767e-01, 4.2682e-01, 4.9161e-01, 5.2841e-01, 5.4475e-01, 5.5883e-01, 5.8641e-01, 6.2750e-01,\n",
              "         6.5125e-01, 6.2112e-01, 5.2849e-01, 4.0753e-01, 2.7025e-01, 1.4412e-01, 5.3465e-02, 1.1405e-02, 1.0490e-03, 0.0000e+00, 0.0000e+00, 0.0000e+00],\n",
              "        [0.0000e+00, 1.2601e-04, 5.3985e-04, 1.1943e-02, 4.0899e-02, 7.8775e-02, 1.3442e-01, 1.9457e-01, 2.5074e-01, 2.9489e-01, 3.1693e-01, 3.1747e-01, 3.1133e-01, 3.2182e-01, 3.6634e-01, 4.5206e-01,\n",
              "         5.3760e-01, 5.7068e-01, 5.2600e-01, 4.1737e-01, 2.7770e-01, 1.4791e-01, 5.6850e-02, 1.1186e-02, 5.6543e-04, 0.0000e+00, 0.0000e+00, 0.0000e+00],\n",
              "        [0.0000e+00, 1.3496e-04, 6.4603e-04, 9.1461e-03, 2.9371e-02, 5.4969e-02, 8.9482e-02, 1.1955e-01, 1.4173e-01, 1.5585e-01, 1.6174e-01, 1.6148e-01, 1.6958e-01, 2.0584e-01, 2.9212e-01, 4.1871e-01,\n",
              "         5.3047e-01, 5.7446e-01, 5.1699e-01, 3.8845e-01, 2.4350e-01, 1.1984e-01, 4.4328e-02, 8.7073e-03, 1.1641e-04, 3.9657e-05, 0.0000e+00, 0.0000e+00],\n",
              "        [0.0000e+00, 6.7161e-05, 4.3047e-04, 6.7775e-03, 1.6751e-02, 2.9374e-02, 4.5093e-02, 5.7854e-02, 6.8061e-02, 7.8151e-02, 9.5189e-02, 1.2533e-01, 1.8025e-01, 2.7419e-01, 4.0268e-01, 5.3354e-01,\n",
              "         6.1373e-01, 5.9656e-01, 4.7979e-01, 3.2004e-01, 1.7885e-01, 7.7661e-02, 2.4957e-02, 4.6878e-03, 3.9657e-05, 1.1833e-04, 0.0000e+00, 0.0000e+00],\n",
              "        [0.0000e+00, 4.9251e-05, 3.7035e-04, 3.8589e-03, 8.8301e-03, 1.4541e-02, 2.0740e-02, 2.9064e-02, 4.4311e-02, 7.7774e-02, 1.3957e-01, 2.3310e-01, 3.5509e-01, 4.8872e-01, 6.0988e-01, 6.8693e-01,\n",
              "         6.8276e-01, 5.8363e-01, 4.1155e-01, 2.4346e-01, 1.1769e-01, 4.1552e-02, 1.0649e-02, 1.8121e-03, 9.5944e-06, 1.2857e-04, 0.0000e+00, 0.0000e+00],\n",
              "        [0.0000e+00, 8.3152e-06, 4.9891e-05, 1.5166e-03, 4.1403e-03, 8.1841e-03, 1.3161e-02, 2.7825e-02, 6.6674e-02, 1.4858e-01, 2.7763e-01, 4.3485e-01, 5.8360e-01, 7.0284e-01, 7.7150e-01, 7.7661e-01,\n",
              "         7.1162e-01, 5.6779e-01, 3.7920e-01, 2.1411e-01, 9.4611e-02, 3.1342e-02, 7.7146e-03, 1.0701e-03, 9.9782e-05, 1.3560e-04, 0.0000e+00, 0.0000e+00],\n",
              "        [0.0000e+00, 0.0000e+00, 0.0000e+00, 6.3963e-04, 2.5783e-03, 5.4042e-03, 1.4138e-02, 3.9151e-02, 1.0502e-01, 2.2640e-01, 3.9440e-01, 5.6574e-01, 6.9847e-01, 7.6719e-01, 7.7950e-01, 7.5081e-01,\n",
              "         6.9238e-01, 5.8267e-01, 4.3279e-01, 2.6549e-01, 1.2995e-01, 5.0904e-02, 1.3723e-02, 2.6148e-03, 3.2749e-04, 6.7161e-05, 0.0000e+00, 0.0000e+00],\n",
              "        [0.0000e+00, 1.0234e-04, 5.8206e-05, 6.9975e-04, 2.5758e-03, 6.5549e-03, 1.5612e-02, 4.5825e-02, 1.1788e-01, 2.4133e-01, 3.9015e-01, 5.2159e-01, 6.0265e-01, 6.2869e-01, 6.2758e-01, 6.1725e-01,\n",
              "         6.1311e-01, 5.9272e-01, 5.1544e-01, 3.7066e-01, 2.1080e-01, 9.5741e-02, 3.1867e-02, 7.1351e-03, 7.5860e-04, 2.6225e-05, 0.0000e+00, 0.0000e+00],\n",
              "        [0.0000e+00, 1.4456e-04, 7.1702e-04, 2.3385e-03, 6.0221e-03, 1.1625e-02, 1.9489e-02, 4.1298e-02, 9.1916e-02, 1.7655e-01, 2.7350e-01, 3.4554e-01, 3.7789e-01, 3.8353e-01, 3.8828e-01, 4.1357e-01,\n",
              "         4.7273e-01, 5.4692e-01, 5.5695e-01, 4.6004e-01, 2.9679e-01, 1.4911e-01, 6.0777e-02, 1.5610e-02, 1.8025e-03, 3.1981e-06, 1.3368e-04, 0.0000e+00],\n",
              "        [0.0000e+00, 1.2729e-04, 2.1869e-03, 7.0538e-03, 1.4894e-02, 2.2301e-02, 2.7903e-02, 3.9338e-02, 6.2386e-02, 9.9441e-02, 1.3370e-01, 1.5925e-01, 1.6655e-01, 1.7223e-01, 1.9161e-01, 2.4334e-01,\n",
              "         3.4454e-01, 4.8216e-01, 5.6101e-01, 5.0364e-01, 3.5205e-01, 1.9422e-01, 8.5188e-02, 2.6331e-02, 3.5276e-03, 1.2793e-06, 2.2387e-05, 0.0000e+00],\n",
              "        [0.0000e+00, 1.5735e-04, 3.3331e-03, 1.5257e-02, 3.1764e-02, 4.3270e-02, 4.9365e-02, 5.5510e-02, 5.9109e-02, 5.8848e-02, 6.1369e-02, 6.3137e-02, 6.5532e-02, 7.3339e-02, 9.8233e-02, 1.6722e-01,\n",
              "         2.9171e-01, 4.5252e-01, 5.5033e-01, 5.1463e-01, 3.6876e-01, 2.1820e-01, 1.0305e-01, 3.3861e-02, 3.8557e-03, 0.0000e+00, 0.0000e+00, 0.0000e+00],\n",
              "        [0.0000e+00, 1.6183e-04, 5.7592e-03, 2.7754e-02, 5.8420e-02, 8.2884e-02, 9.7888e-02, 1.0189e-01, 9.3466e-02, 7.5450e-02, 6.1778e-02, 5.2316e-02, 4.8228e-02, 5.6958e-02, 9.1961e-02, 1.8154e-01,\n",
              "         3.2670e-01, 4.7789e-01, 5.5600e-01, 5.0929e-01, 3.6437e-01, 2.2059e-01, 1.0743e-01, 3.3211e-02, 3.2410e-03, 0.0000e+00, 0.0000e+00, 0.0000e+00],\n",
              "        [0.0000e+00, 2.5521e-04, 9.1678e-03, 4.0289e-02, 8.8192e-02, 1.3721e-01, 1.6905e-01, 1.8232e-01, 1.7508e-01, 1.5029e-01, 1.2213e-01, 9.8687e-02, 9.3244e-02, 1.1323e-01, 1.7340e-01, 2.8420e-01,\n",
              "         4.3076e-01, 5.4810e-01, 5.7053e-01, 4.8661e-01, 3.3786e-01, 2.0005e-01, 9.1660e-02, 2.4017e-02, 2.2828e-03, 1.3432e-05, 0.0000e+00, 0.0000e+00],\n",
              "        [0.0000e+00, 4.6565e-04, 1.0415e-02, 4.8182e-02, 1.0872e-01, 1.8070e-01, 2.4184e-01, 2.8666e-01, 3.0795e-01, 2.9331e-01, 2.6096e-01, 2.3568e-01, 2.3487e-01, 2.7473e-01, 3.5662e-01, 4.6657e-01,\n",
              "         5.7225e-01, 6.1136e-01, 5.6052e-01, 4.2788e-01, 2.7981e-01, 1.5136e-01, 6.0435e-02, 1.3841e-02, 1.2274e-03, 1.3432e-05, 4.9891e-05, 0.0000e+00],\n",
              "        [0.0000e+00, 3.6267e-04, 8.7373e-03, 4.1436e-02, 1.0026e-01, 1.8489e-01, 2.8464e-01, 3.7627e-01, 4.4899e-01, 4.7922e-01, 4.8200e-01, 4.7516e-01, 4.8842e-01, 5.3127e-01, 5.9328e-01, 6.4996e-01,\n",
              "         6.6266e-01, 6.0082e-01, 4.7449e-01, 3.2416e-01, 1.8824e-01, 8.8396e-02, 2.8767e-02, 5.4074e-03, 3.2621e-04, 0.0000e+00, 2.1108e-05, 0.0000e+00],\n",
              "        [0.0000e+00, 3.1342e-05, 6.0810e-03, 2.7270e-02, 7.3331e-02, 1.4404e-01, 2.5190e-01, 3.7506e-01, 4.9620e-01, 5.9483e-01, 6.5782e-01, 6.9493e-01, 7.1683e-01, 7.2840e-01, 7.2238e-01, 6.8208e-01,\n",
              "         5.9055e-01, 4.5946e-01, 3.1460e-01, 1.8711e-01, 9.4876e-02, 3.7261e-02, 1.0511e-02, 1.6490e-03, 3.5180e-05, 0.0000e+00, 3.1981e-06, 0.0000e+00],\n",
              "        [0.0000e+00, 0.0000e+00, 2.3519e-03, 1.2594e-02, 3.9571e-02, 8.3350e-02, 1.5672e-01, 2.5775e-01, 3.7410e-01, 4.8738e-01, 5.8281e-01, 6.4514e-01, 6.6356e-01, 6.4247e-01, 5.7364e-01, 4.7332e-01,\n",
              "         3.5329e-01, 2.3856e-01, 1.4426e-01, 7.5467e-02, 3.0740e-02, 9.7691e-03, 2.4229e-03, 3.6651e-04, 1.4839e-04, 7.6756e-06, 5.1810e-05, 0.0000e+00],\n",
              "        [0.0000e+00, 0.0000e+00, 5.4113e-04, 3.9555e-03, 1.3458e-02, 3.0013e-02, 5.8374e-02, 9.7864e-02, 1.4818e-01, 2.0402e-01, 2.5312e-01, 2.8803e-01, 2.9355e-01, 2.7630e-01, 2.3039e-01, 1.7364e-01,\n",
              "         1.1796e-01, 7.1760e-02, 3.6760e-02, 1.6373e-02, 5.7541e-03, 2.0769e-03, 6.1021e-04, 1.2153e-04, 0.0000e+00, 0.0000e+00, 0.0000e+00, 0.0000e+00],\n",
              "        [0.0000e+00, 0.0000e+00, 3.7099e-05, 1.2473e-04, 1.2447e-03, 3.0402e-03, 6.6873e-03, 1.1371e-02, 1.8533e-02, 2.5284e-02, 3.1993e-02, 3.5295e-02, 3.6504e-02, 3.4298e-02, 2.8593e-02, 2.1875e-02,\n",
              "         1.5417e-02, 9.1748e-03, 5.0454e-03, 2.8687e-03, 1.1430e-03, 4.5350e-04, 2.1683e-04, 0.0000e+00, 0.0000e+00, 0.0000e+00, 0.0000e+00, 0.0000e+00],\n",
              "        [0.0000e+00, 0.0000e+00, 0.0000e+00, 0.0000e+00, 1.0234e-05, 8.0593e-05, 1.6630e-04, 3.6459e-04, 4.0041e-04, 5.1362e-04, 7.4325e-04, 9.5497e-04, 1.0643e-03, 1.3560e-03, 1.0484e-03, 8.3855e-04,\n",
              "         1.0260e-03, 9.5497e-04, 7.4645e-04, 5.3793e-04, 3.6523e-04, 1.9637e-04, 2.8783e-05, 0.0000e+00, 0.0000e+00, 0.0000e+00, 0.0000e+00, 0.0000e+00],\n",
              "        [0.0000e+00, 0.0000e+00, 0.0000e+00, 0.0000e+00, 0.0000e+00, 0.0000e+00, 0.0000e+00, 0.0000e+00, 0.0000e+00, 0.0000e+00, 0.0000e+00, 0.0000e+00, 0.0000e+00, 0.0000e+00, 0.0000e+00, 0.0000e+00,\n",
              "         0.0000e+00, 0.0000e+00, 0.0000e+00, 0.0000e+00, 0.0000e+00, 0.0000e+00, 0.0000e+00, 0.0000e+00, 0.0000e+00, 0.0000e+00, 0.0000e+00, 0.0000e+00]])"
            ]
          },
          "metadata": {
            "tags": []
          },
          "execution_count": 13
        }
      ]
    },
    {
      "cell_type": "code",
      "metadata": {
        "colab": {
          "base_uri": "https://localhost:8080/",
          "height": 102
        },
        "id": "BjpwuGGLywOo",
        "outputId": "b7fc12bd-78bb-4908-8f0e-dea85e5c3629"
      },
      "source": [
        "mean_7 = stacked_sevens.mean(0)\n",
        "show_image(mean_7)"
      ],
      "execution_count": 14,
      "outputs": [
        {
          "output_type": "execute_result",
          "data": {
            "text/plain": [
              "<matplotlib.axes._subplots.AxesSubplot at 0x7f7fbeb60610>"
            ]
          },
          "metadata": {
            "tags": []
          },
          "execution_count": 14
        },
        {
          "output_type": "display_data",
          "data": {
            "image/png": "[encoded data removed]",
            "text/plain": [
              "<Figure size 72x72 with 1 Axes>"
            ]
          },
          "metadata": {
            "tags": [],
            "needs_background": "light"
          }
        }
      ]
    },
    {
      "cell_type": "code",
      "metadata": {
        "colab": {
          "base_uri": "https://localhost:8080/",
          "height": 102
        },
        "id": "khCkKbwxy7NO",
        "outputId": "449b3969-b849-4645-e50c-a8ebee2ce62d"
      },
      "source": [
        "a_3 = stacked_threes[1]\n",
        "show_image(a_3)\n"
      ],
      "execution_count": 36,
      "outputs": [
        {
          "output_type": "execute_result",
          "data": {
            "text/plain": [
              "<matplotlib.axes._subplots.AxesSubplot at 0x7f7fb9a6be90>"
            ]
          },
          "metadata": {
            "tags": []
          },
          "execution_count": 36
        },
        {
          "output_type": "display_data",
          "data": {
            "image/png": "[encoded data removed]",
            "text/plain": [
              "<Figure size 72x72 with 1 Axes>"
            ]
          },
          "metadata": {
            "tags": [],
            "needs_background": "light"
          }
        }
      ]
    },
    {
      "cell_type": "code",
      "metadata": {
        "colab": {
          "base_uri": "https://localhost:8080/"
        },
        "id": "madWs5Lmg6u9",
        "outputId": "0f5fb184-559d-4bcd-b09d-c6d0df5f8c4a"
      },
      "source": [
        "\n",
        "dist_3_abs = (a_3 - mean_3).abs().mean()\n",
        "dist_3_sqr = ((a_3 - mean_3)**2).mean().sqrt()\n",
        "dist_3_abs, dist_3_sqr"
      ],
      "execution_count": 38,
      "outputs": [
        {
          "output_type": "execute_result",
          "data": {
            "text/plain": [
              "(tensor(0.1305), tensor(0.2345))"
            ]
          },
          "metadata": {
            "tags": []
          },
          "execution_count": 38
        }
      ]
    },
    {
      "cell_type": "code",
      "metadata": {
        "colab": {
          "base_uri": "https://localhost:8080/"
        },
        "id": "M3Ey-TYmhHAP",
        "outputId": "a4aa01e9-fd1f-4e72-b3e5-79e6e7b31a09"
      },
      "source": [
        "\n",
        "dist_7_abs = (a_3 - mean_7).abs().mean()\n",
        "dist_7_sqr = ((a_3 - mean_7)**2).mean().sqrt()\n",
        "dist_7_abs, dist_7_sqr"
      ],
      "execution_count": 39,
      "outputs": [
        {
          "output_type": "execute_result",
          "data": {
            "text/plain": [
              "(tensor(0.1427), tensor(0.2736))"
            ]
          },
          "metadata": {
            "tags": []
          },
          "execution_count": 39
        }
      ]
    },
    {
      "cell_type": "code",
      "metadata": {
        "id": "MaelWQ77z8hV"
      },
      "source": [
        "def is_three(some_digit):\n",
        "  dist_3_sqr = (some_digit - mean_3).abs().mean((-1,-2))\n",
        "  dist_7_sqr = (some_digit - mean_7).abs().mean((-1,-2))\n",
        "  return (dist_3_sqr < dist_7_sqr)\n"
      ],
      "execution_count": 40,
      "outputs": []
    },
    {
      "cell_type": "code",
      "metadata": {
        "colab": {
          "base_uri": "https://localhost:8080/",
          "height": 45
        },
        "id": "Z-6JoQLBfFYE",
        "outputId": "ca17f265-6e96-4b96-8f65-d4cde50bf1cb"
      },
      "source": [
        "\n",
        "valid_3_paths = (path/'valid/3').ls()\n",
        "Image.open(valid_3_paths[1])\n"
      ],
      "execution_count": 41,
      "outputs": [
        {
          "output_type": "execute_result",
          "data": {
            "image/png": "[encoded data removed]",
            "text/plain": [
              "<PIL.PngImagePlugin.PngImageFile image mode=L size=28x28 at 0x7F7FB9BB3310>"
            ]
          },
          "metadata": {
            "tags": []
          },
          "execution_count": 41
        }
      ]
    },
    {
      "cell_type": "code",
      "metadata": {
        "colab": {
          "base_uri": "https://localhost:8080/"
        },
        "id": "SvAiKXlU26td",
        "outputId": "8aefc913-6ebe-4b7a-9d97-78cd38d916a4"
      },
      "source": [
        "valid_threes = torch.stack([tensor(Image.open(o)) for o in (path/'valid/3').ls()]).float()/255\n",
        "valid_threes.shape"
      ],
      "execution_count": 23,
      "outputs": [
        {
          "output_type": "execute_result",
          "data": {
            "text/plain": [
              "torch.Size([1010, 28, 28])"
            ]
          },
          "metadata": {
            "tags": []
          },
          "execution_count": 23
        }
      ]
    },
    {
      "cell_type": "code",
      "metadata": {
        "colab": {
          "base_uri": "https://localhost:8080/"
        },
        "id": "-uTSNFXuc82t",
        "outputId": "88b3f516-098a-41c6-dba0-18cc36e78bdf"
      },
      "source": [
        "valid_threes_predictions = is_three(valid_threes)\n",
        "valid_threes_predictions\n"
      ],
      "execution_count": 42,
      "outputs": [
        {
          "output_type": "execute_result",
          "data": {
            "text/plain": [
              "tensor([True, True, True,  ..., True, True, True])"
            ]
          },
          "metadata": {
            "tags": []
          },
          "execution_count": 42
        }
      ]
    },
    {
      "cell_type": "code",
      "metadata": {
        "colab": {
          "base_uri": "https://localhost:8080/"
        },
        "id": "C7PGKE-Xeil4",
        "outputId": "afc0e2bd-d82d-46ab-e2e2-4982fece6cba"
      },
      "source": [
        "valid_threes_predictions.float().mean()"
      ],
      "execution_count": 43,
      "outputs": [
        {
          "output_type": "execute_result",
          "data": {
            "text/plain": [
              "tensor(0.9168)"
            ]
          },
          "metadata": {
            "tags": []
          },
          "execution_count": 43
        }
      ]
    },
    {
      "cell_type": "code",
      "metadata": {
        "colab": {
          "base_uri": "https://localhost:8080/"
        },
        "id": "ciMwNVrOh6E6",
        "outputId": "87f9be58-70f3-40e7-e671-1bfb279ece09"
      },
      "source": [
        "valid_sevens = torch.stack([tensor(Image.open(o)) for o in (path/'valid/7').ls()]).float()/255\n",
        "valid_sevens_predictions = is_three(valid_sevens)\n",
        "1- valid_sevens_predictions.float().mean()"
      ],
      "execution_count": 49,
      "outputs": [
        {
          "output_type": "execute_result",
          "data": {
            "text/plain": [
              "tensor(0.9854)"
            ]
          },
          "metadata": {
            "tags": []
          },
          "execution_count": 49
        }
      ]
    }
  ]
}