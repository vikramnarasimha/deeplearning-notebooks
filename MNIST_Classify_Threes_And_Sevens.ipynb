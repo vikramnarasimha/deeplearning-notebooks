{
  "nbformat": 4,
  "nbformat_minor": 0,
  "metadata": {
    "colab": {
      "name": "MNIST_Classify_Threes_And_Sevens.ipynb",
      "provenance": [],
      "authorship_tag": "ABX9TyOfkBjzmUgt2r8BfU/l95PN",
      "include_colab_link": true
    },
    "kernelspec": {
      "name": "python3",
      "display_name": "Python 3"
    },
    "language_info": {
      "name": "python"
    },
    "accelerator": "GPU"
  },
  "cells": [
    {
      "cell_type": "markdown",
      "metadata": {
        "id": "view-in-github",
        "colab_type": "text"
      },
      "source": [
        "<a href=\"https://colab.research.google.com/github/vikramnarasimha/deeplearning-notebooks/blob/main/MNIST_Classify_Threes_And_Sevens.ipynb\" target=\"_parent\"><img src=\"https://colab.research.google.com/assets/colab-badge.svg\" alt=\"Open In Colab\"/></a>"
      ]
    },
    {
      "cell_type": "code",
      "metadata": {
        "colab": {
          "base_uri": "https://localhost:8080/"
        },
        "id": "OCMT42vms4A6",
        "outputId": "aa8c1606-de38-4daa-e33e-c197e1e0187b"
      },
      "source": [
        "!pip install -Uqq fastbook "
      ],
      "execution_count": 1,
      "outputs": [
        {
          "output_type": "stream",
          "text": [
            "\u001b[K     |████████████████████████████████| 727kB 11.2MB/s \n",
            "\u001b[K     |████████████████████████████████| 194kB 22.8MB/s \n",
            "\u001b[K     |████████████████████████████████| 51kB 4.8MB/s \n",
            "\u001b[K     |████████████████████████████████| 1.2MB 35.5MB/s \n",
            "\u001b[K     |████████████████████████████████| 61kB 7.1MB/s \n",
            "\u001b[K     |████████████████████████████████| 776.8MB 24kB/s \n",
            "\u001b[K     |████████████████████████████████| 12.8MB 221kB/s \n",
            "\u001b[K     |████████████████████████████████| 51kB 6.0MB/s \n",
            "\u001b[31mERROR: torchtext 0.9.1 has requirement torch==1.8.1, but you'll have torch 1.7.1 which is incompatible.\u001b[0m\n",
            "\u001b[?25h"
          ],
          "name": "stdout"
        }
      ]
    },
    {
      "cell_type": "code",
      "metadata": {
        "id": "G371kiz8to4L"
      },
      "source": [
        "from fastbook import *"
      ],
      "execution_count": 2,
      "outputs": []
    },
    {
      "cell_type": "code",
      "metadata": {
        "colab": {
          "base_uri": "https://localhost:8080/",
          "height": 17
        },
        "id": "qVLk1y1stqzW",
        "outputId": "ecdd6e13-292a-4eb4-d3e0-75696da7f623"
      },
      "source": [
        "path = untar_data(URLs.MNIST_SAMPLE)"
      ],
      "execution_count": 3,
      "outputs": [
        {
          "output_type": "display_data",
          "data": {
            "text/html": [
              ""
            ],
            "text/plain": [
              "<IPython.core.display.HTML object>"
            ]
          },
          "metadata": {
            "tags": []
          }
        }
      ]
    },
    {
      "cell_type": "code",
      "metadata": {
        "colab": {
          "base_uri": "https://localhost:8080/"
        },
        "id": "dLdQ01QCt6WZ",
        "outputId": "07dd4673-11a6-484d-bace-6cc6fb2ee357"
      },
      "source": [
        "path.ls()"
      ],
      "execution_count": 4,
      "outputs": [
        {
          "output_type": "execute_result",
          "data": {
            "text/plain": [
              "(#3) [Path('/root/.fastai/data/mnist_sample/train'),Path('/root/.fastai/data/mnist_sample/labels.csv'),Path('/root/.fastai/data/mnist_sample/valid')]"
            ]
          },
          "metadata": {
            "tags": []
          },
          "execution_count": 4
        }
      ]
    },
    {
      "cell_type": "code",
      "metadata": {
        "id": "aNTrbgbquZvg"
      },
      "source": [
        "def stacked_tensors(path,digit,training):\n",
        "  training_or_validation = 'train'\n",
        "  if(not training):\n",
        "    training_or_validation = 'valid'\n",
        "  digit_images = (path/training_or_validation/str(digit)).ls()\n",
        "  digit_tensors = [tensor(Image.open(o)) for o in digit_images]\n",
        "  stacked_digit_tensors = torch.stack(digit_tensors).float()/255\n",
        "  return (digit_tensors, stacked_digit_tensors)"
      ],
      "execution_count": 5,
      "outputs": []
    },
    {
      "cell_type": "code",
      "metadata": {
        "colab": {
          "base_uri": "https://localhost:8080/"
        },
        "id": "Az1IwtLUvHw_",
        "outputId": "a65c644c-19e0-456a-f010-11b20fb2de79"
      },
      "source": [
        "threes, stacked_threes = stacked_tensors(path,3, true)\n",
        "sevens, stacked_sevens = stacked_tensors(path,7, true)\n",
        "stacked_threes.shape, stacked_sevens.shape"
      ],
      "execution_count": 6,
      "outputs": [
        {
          "output_type": "execute_result",
          "data": {
            "text/plain": [
              "(torch.Size([6131, 28, 28]), torch.Size([6265, 28, 28]))"
            ]
          },
          "metadata": {
            "tags": []
          },
          "execution_count": 6
        }
      ]
    },
    {
      "cell_type": "code",
      "metadata": {
        "colab": {
          "base_uri": "https://localhost:8080/"
        },
        "id": "sXFYqg0xvx5W",
        "outputId": "782daf60-454b-4977-e1f6-8bae2236f68b"
      },
      "source": [
        "\n",
        "train_x = torch.cat([stacked_threes.view(-1,(28*28)),\n",
        "          stacked_sevens.view(-1,(28*28))]\n",
        ")\n",
        "train_x.shape\n",
        "\n"
      ],
      "execution_count": 7,
      "outputs": [
        {
          "output_type": "execute_result",
          "data": {
            "text/plain": [
              "torch.Size([12396, 784])"
            ]
          },
          "metadata": {
            "tags": []
          },
          "execution_count": 7
        }
      ]
    },
    {
      "cell_type": "code",
      "metadata": {
        "colab": {
          "base_uri": "https://localhost:8080/"
        },
        "id": "64TI4lQ7F26R",
        "outputId": "c8205255-38bf-4a57-fe36-48bbfda3e2dc"
      },
      "source": [
        "train_y = tensor([1]* len(threes) + [0] * len(sevens)).unsqueeze(1)\n",
        "train_y.shape"
      ],
      "execution_count": 8,
      "outputs": [
        {
          "output_type": "execute_result",
          "data": {
            "text/plain": [
              "torch.Size([12396, 1])"
            ]
          },
          "metadata": {
            "tags": []
          },
          "execution_count": 8
        }
      ]
    },
    {
      "cell_type": "code",
      "metadata": {
        "colab": {
          "base_uri": "https://localhost:8080/"
        },
        "id": "ExjWjmGBIyI8",
        "outputId": "fc60829d-8183-49d8-e0b2-c1e351146442"
      },
      "source": [
        "dset = list(zip(train_x, train_y))\n",
        "x,y = dset[0]\n",
        "x.shape, y"
      ],
      "execution_count": 9,
      "outputs": [
        {
          "output_type": "execute_result",
          "data": {
            "text/plain": [
              "(torch.Size([784]), tensor([1]))"
            ]
          },
          "metadata": {
            "tags": []
          },
          "execution_count": 9
        }
      ]
    },
    {
      "cell_type": "code",
      "metadata": {
        "id": "7vyeRGDVIxKh"
      },
      "source": [
        "def dset_3s_7s(path, training):\n",
        "  '''\n",
        "  Returns a dataset of the independent variable (image pixels) on the x\n",
        "  and the category i.e which digit on the y (0 for 7 and 1 for 3)\n",
        "  '''\n",
        "  threes, stacked_threes = stacked_tensors(path,3,training)\n",
        "  sevens, stacked_sevens = stacked_tensors(path,7,training)\n",
        "  train_x = torch.cat([stacked_threes.view(-1,(28*28)),\n",
        "          stacked_sevens.view(-1,(28*28))]\n",
        "          )\n",
        "  train_y = tensor([1]* len(threes) + [0] * len(sevens)).unsqueeze(1)\n",
        "  #dset = list(zip(train_x, train_y))\n",
        "  return train_x, train_y"
      ],
      "execution_count": 10,
      "outputs": []
    },
    {
      "cell_type": "code",
      "metadata": {
        "colab": {
          "base_uri": "https://localhost:8080/"
        },
        "id": "bZcaElDeKN0_",
        "outputId": "8cea70ee-adb2-49d1-e2f7-77c583a4640e"
      },
      "source": [
        "train_x,train_y = dset_3s_7s(path, True)\n",
        "train_x.shape, train_y.shape"
      ],
      "execution_count": 11,
      "outputs": [
        {
          "output_type": "execute_result",
          "data": {
            "text/plain": [
              "(torch.Size([12396, 784]), torch.Size([12396, 1]))"
            ]
          },
          "metadata": {
            "tags": []
          },
          "execution_count": 11
        }
      ]
    },
    {
      "cell_type": "code",
      "metadata": {
        "colab": {
          "base_uri": "https://localhost:8080/"
        },
        "id": "rSalzrcpKY5H",
        "outputId": "b531add0-2cba-4eff-8f8e-44c847b0afb3"
      },
      "source": [
        "valid_x,valid_y = dset_3s_7s(path, False)\n",
        "valid_x.shape, valid_y.shape"
      ],
      "execution_count": 12,
      "outputs": [
        {
          "output_type": "execute_result",
          "data": {
            "text/plain": [
              "(torch.Size([2038, 784]), torch.Size([2038, 1]))"
            ]
          },
          "metadata": {
            "tags": []
          },
          "execution_count": 12
        }
      ]
    },
    {
      "cell_type": "code",
      "metadata": {
        "colab": {
          "base_uri": "https://localhost:8080/"
        },
        "id": "CO8vMuDlKhOS",
        "outputId": "560cf534-523e-47e1-990c-096f7cbef4b9"
      },
      "source": [
        "#initialise weights\n",
        "def init_params(size, std=1.0):\n",
        "  return (torch.randn(size)*std).requires_grad_()\n",
        "\n",
        "weights = init_params((28*28,1))\n",
        "bias = init_params(1)\n",
        "weights.shape, bias.shape"
      ],
      "execution_count": 13,
      "outputs": [
        {
          "output_type": "execute_result",
          "data": {
            "text/plain": [
              "(torch.Size([784, 1]), torch.Size([1]))"
            ]
          },
          "metadata": {
            "tags": []
          },
          "execution_count": 13
        }
      ]
    },
    {
      "cell_type": "code",
      "metadata": {
        "colab": {
          "base_uri": "https://localhost:8080/"
        },
        "id": "dPgjQr_mNB48",
        "outputId": "a679093e-b62b-4374-a296-0767b0bfafea"
      },
      "source": [
        "#predict for 1 image\n",
        "dset = list(zip(train_x, train_y))\n",
        "x,y = dset[0]\n",
        "new_y = (x*weights.T).sum() + bias\n",
        "print(new_y, y)\n",
        "\n",
        "#predict for all images using matrix multiplication @.. \n",
        "def linear1(xb):\n",
        "  return xb@weights + bias\n",
        "preds = linear1(train_x)\n",
        "preds, train_y\n",
        "\n",
        "#calculate loss\n",
        "corrects = (preds > 0.0).float() == train_y\n",
        "corrects \n",
        "print(corrects.float().mean())\n",
        "\n",
        "#Gradient & Step\n",
        "weights[0] *= 0.000000000001\n",
        "preds = linear1(train_x)\n",
        "corrects = (preds > 0.0).float() == train_y\n",
        "corrects \n",
        "print(corrects.float().mean())\n",
        "\n"
      ],
      "execution_count": 14,
      "outputs": [
        {
          "output_type": "stream",
          "text": [
            "tensor([2.6166], grad_fn=<AddBackward0>) tensor([1])\n",
            "tensor(0.5380)\n",
            "tensor(0.5380)\n"
          ],
          "name": "stdout"
        }
      ]
    },
    {
      "cell_type": "markdown",
      "metadata": {
        "id": "bWRfen3mtPru"
      },
      "source": [
        "# Do it yourself Model "
      ]
    },
    {
      "cell_type": "code",
      "metadata": {
        "colab": {
          "base_uri": "https://localhost:8080/"
        },
        "id": "6yfYbcOxZlLK",
        "outputId": "320395ab-3cca-45a0-ce44-7f33cd252008"
      },
      "source": [
        "weights = init_params((28*28,1))\n",
        "bias = init_params(1) \n",
        "\n",
        "#Using Dataloader to train \n",
        "dl = DataLoader(dset, batch_size=256)\n",
        "valid_dset = list(zip(valid_x,valid_y))\n",
        "valid_dl = DataLoader(valid_dset, batch_size=256)\n",
        "xb, yb = first(dl)\n",
        "xb.shape, yb.shape\n",
        "params = weights, bias\n",
        "\n",
        "#targets =tensor[1,0,1]\n",
        "#predictions = tensor[0.9,0.4,0.3]\n",
        "#loss = tensor[0.1,0.4,0.7]\n",
        "def mnist_loss(predictions, targets):\n",
        "  predictions = predictions.sigmoid()\n",
        "  return torch.where(targets==1,1-predictions, predictions).mean()\n",
        "\n",
        "def calc_grad(x, y, model):\n",
        "    pred = model(x)\n",
        "    loss = mnist_loss(pred,y)\n",
        "    loss.backward()\n",
        "\n",
        "def train_epoch(model, params, dl,lr):\n",
        "  for x,y in dl:\n",
        "    calc_grad(x,y,model)\n",
        "    for p in params:\n",
        "      p.data -= p.grad * lr\n",
        "      p.grad.zero_()\n",
        "\n",
        "def batch_accuracy(xb,yb):\n",
        "  preds = xb.sigmoid()\n",
        "  correct = (preds > 0.5) == yb\n",
        "  return correct.float().mean()\n",
        "\n",
        "def validate_epoch(model):\n",
        "  accs = [batch_accuracy(model(xb),yb) for xb,yb in valid_dl]\n",
        "  return round(torch.stack(accs).mean().item(),4)\n",
        "\n",
        "lr = 0.0001\n",
        "train_epoch(linear1, params, dl,lr)\n",
        "validate_epoch(linear1)\n"
      ],
      "execution_count": 15,
      "outputs": [
        {
          "output_type": "execute_result",
          "data": {
            "text/plain": [
              "0.5747"
            ]
          },
          "metadata": {
            "tags": []
          },
          "execution_count": 15
        }
      ]
    },
    {
      "cell_type": "code",
      "metadata": {
        "colab": {
          "base_uri": "https://localhost:8080/"
        },
        "id": "YetnQBJdk6LF",
        "outputId": "153c6eda-6abf-416f-e23e-0e9f0a3e91e1"
      },
      "source": [
        "lr = 1. \n",
        "for i in range(20):\n",
        "  train_epoch(linear1, params, dl, lr)\n",
        "  print(validate_epoch(linear1), end = ' ')\n"
      ],
      "execution_count": 16,
      "outputs": [
        {
          "output_type": "stream",
          "text": [
            "0.7216 0.8592 0.9168 0.931 0.9422 0.951 0.9554 0.9583 0.9627 0.9656 0.9676 0.9691 0.9705 0.9715 0.972 0.973 0.974 0.9759 0.9769 0.9764 "
          ],
          "name": "stdout"
        }
      ]
    },
    {
      "cell_type": "markdown",
      "metadata": {
        "id": "-JGuucmotjt2"
      },
      "source": [
        "## Model based on PyTorchs nn.Linear "
      ]
    },
    {
      "cell_type": "code",
      "metadata": {
        "colab": {
          "base_uri": "https://localhost:8080/"
        },
        "id": "F6nzh-fRtrv_",
        "outputId": "103b2f3d-f6a4-4749-f1e6-ec110c0870da"
      },
      "source": [
        "linear_model = nn.Linear(28*28,1)\n",
        "class BasicOptimizer:\n",
        "  def __init__(self,params, lr):\n",
        "    self.params, self.lr = list(params),lr\n",
        "  \n",
        "  def step(self, *args, **kwargs):\n",
        "    for p in self.params:\n",
        "      p.data -= p.grad.data * self.lr\n",
        "  \n",
        "  def zero_grad(self, *args, **kwargs):\n",
        "    for p in self.params:\n",
        "      p.grad = None\n",
        "\n",
        "lr = 1.\n",
        "opt = BasicOptimizer(linear_model.parameters(), lr)\n",
        "\n",
        "def train_epoch(model):\n",
        "  for xb, yb in dl:\n",
        "    calc_grad(xb,yb, model)\n",
        "    opt.step()\n",
        "    opt.zero_grad()\n",
        "\n",
        "validate_epoch(linear_model)\n",
        "    \n",
        "def train_model(model, epochs):\n",
        "  for i in range(epochs):\n",
        "    train_epoch(model)\n",
        "    print(validate_epoch(model), end = ' ')\n",
        "\n",
        "train_model(linear_model, 20)"
      ],
      "execution_count": 17,
      "outputs": [
        {
          "output_type": "stream",
          "text": [
            "0.4932 0.7231 0.8608 0.917 0.9414 0.956 0.9643 0.9663 0.9678 0.9692 0.9717 0.9731 0.9751 0.976 0.976 0.9775 0.9775 0.978 0.9785 0.9785 "
          ],
          "name": "stdout"
        }
      ]
    },
    {
      "cell_type": "markdown",
      "metadata": {
        "id": "7V6oqjLs26a5"
      },
      "source": [
        "# Model based on FastAI's wrappers"
      ]
    },
    {
      "cell_type": "code",
      "metadata": {
        "colab": {
          "base_uri": "https://localhost:8080/",
          "height": 359
        },
        "id": "_W9tmSzS3DgL",
        "outputId": "d57ec631-50ee-4c1c-d47e-0796fb442ff2"
      },
      "source": [
        "linear_model = nn.Linear(28*28,1)\n",
        "opt = SGD(linear_model.parameters(), lr)\n",
        "dls = DataLoaders(dl, valid_dl)\n",
        "learn = Learner(dls, linear_model, loss_func=mnist_loss, opt_func=SGD,metrics=batch_accuracy)\n",
        "learn.fit(10, lr=lr)"
      ],
      "execution_count": 21,
      "outputs": [
        {
          "output_type": "display_data",
          "data": {
            "text/html": [
              "<table border=\"1\" class=\"dataframe\">\n",
              "  <thead>\n",
              "    <tr style=\"text-align: left;\">\n",
              "      <th>epoch</th>\n",
              "      <th>train_loss</th>\n",
              "      <th>valid_loss</th>\n",
              "      <th>batch_accuracy</th>\n",
              "      <th>time</th>\n",
              "    </tr>\n",
              "  </thead>\n",
              "  <tbody>\n",
              "    <tr>\n",
              "      <td>0</td>\n",
              "      <td>0.636948</td>\n",
              "      <td>0.502940</td>\n",
              "      <td>0.495584</td>\n",
              "      <td>00:00</td>\n",
              "    </tr>\n",
              "    <tr>\n",
              "      <td>1</td>\n",
              "      <td>0.381875</td>\n",
              "      <td>0.267059</td>\n",
              "      <td>0.746811</td>\n",
              "      <td>00:00</td>\n",
              "    </tr>\n",
              "    <tr>\n",
              "      <td>2</td>\n",
              "      <td>0.145848</td>\n",
              "      <td>0.161294</td>\n",
              "      <td>0.854760</td>\n",
              "      <td>00:00</td>\n",
              "    </tr>\n",
              "    <tr>\n",
              "      <td>3</td>\n",
              "      <td>0.067095</td>\n",
              "      <td>0.097924</td>\n",
              "      <td>0.918057</td>\n",
              "      <td>00:00</td>\n",
              "    </tr>\n",
              "    <tr>\n",
              "      <td>4</td>\n",
              "      <td>0.038013</td>\n",
              "      <td>0.070874</td>\n",
              "      <td>0.938665</td>\n",
              "      <td>00:00</td>\n",
              "    </tr>\n",
              "    <tr>\n",
              "      <td>5</td>\n",
              "      <td>0.026776</td>\n",
              "      <td>0.056389</td>\n",
              "      <td>0.954367</td>\n",
              "      <td>00:00</td>\n",
              "    </tr>\n",
              "    <tr>\n",
              "      <td>6</td>\n",
              "      <td>0.022078</td>\n",
              "      <td>0.047697</td>\n",
              "      <td>0.964181</td>\n",
              "      <td>00:00</td>\n",
              "    </tr>\n",
              "    <tr>\n",
              "      <td>7</td>\n",
              "      <td>0.019844</td>\n",
              "      <td>0.042124</td>\n",
              "      <td>0.966143</td>\n",
              "      <td>00:00</td>\n",
              "    </tr>\n",
              "    <tr>\n",
              "      <td>8</td>\n",
              "      <td>0.018614</td>\n",
              "      <td>0.038306</td>\n",
              "      <td>0.968106</td>\n",
              "      <td>00:00</td>\n",
              "    </tr>\n",
              "    <tr>\n",
              "      <td>9</td>\n",
              "      <td>0.017840</td>\n",
              "      <td>0.035525</td>\n",
              "      <td>0.969087</td>\n",
              "      <td>00:00</td>\n",
              "    </tr>\n",
              "  </tbody>\n",
              "</table>"
            ],
            "text/plain": [
              "<IPython.core.display.HTML object>"
            ]
          },
          "metadata": {
            "tags": []
          }
        }
      ]
    }
  ]
}